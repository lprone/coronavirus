{
 "cells": [
  {
   "cell_type": "markdown",
   "metadata": {},
   "source": [
    "### Import libs"
   ]
  },
  {
   "cell_type": "code",
   "execution_count": 1,
   "metadata": {},
   "outputs": [],
   "source": [
    "import warnings\n",
    "warnings.filterwarnings(\"ignore\")\n",
    "\n",
    "import pandas as pd\n",
    "import numpy as np\n",
    "import matplotlib as plt\n",
    "import seaborn as sns\n",
    "import datetime\n",
    "\n",
    "from pyramid.arima import auto_arima"
   ]
  },
  {
   "cell_type": "markdown",
   "metadata": {},
   "source": [
    "### Read data"
   ]
  },
  {
   "cell_type": "code",
   "execution_count": 2,
   "metadata": {},
   "outputs": [],
   "source": [
    "df = pd.read_csv(\"data-wrss9.csv\", parse_dates=[\"Date\"], index_col=0)"
   ]
  },
  {
   "cell_type": "markdown",
   "metadata": {},
   "source": [
    "### Rename columns"
   ]
  },
  {
   "cell_type": "code",
   "execution_count": 3,
   "metadata": {},
   "outputs": [
    {
     "data": {
      "text/plain": [
       "Index(['Total confirmed cases', 'Total deaths', 'Total recovered'], dtype='object')"
      ]
     },
     "execution_count": 3,
     "metadata": {},
     "output_type": "execute_result"
    }
   ],
   "source": [
    "df.columns"
   ]
  },
  {
   "cell_type": "code",
   "execution_count": 4,
   "metadata": {},
   "outputs": [],
   "source": [
    "df.rename(columns={'Total confirmed cases':'TotalConfirmedCases',\n",
    "                   'Total deaths':'TotalDeaths',\n",
    "                   'Total recovered':'TotalRecovered'\n",
    "                  }, inplace=True)"
   ]
  },
  {
   "cell_type": "markdown",
   "metadata": {},
   "source": [
    "### Data Analysis"
   ]
  },
  {
   "cell_type": "code",
   "execution_count": 5,
   "metadata": {
    "scrolled": true
   },
   "outputs": [
    {
     "data": {
      "text/html": [
       "<div>\n",
       "<style scoped>\n",
       "    .dataframe tbody tr th:only-of-type {\n",
       "        vertical-align: middle;\n",
       "    }\n",
       "\n",
       "    .dataframe tbody tr th {\n",
       "        vertical-align: top;\n",
       "    }\n",
       "\n",
       "    .dataframe thead th {\n",
       "        text-align: right;\n",
       "    }\n",
       "</style>\n",
       "<table border=\"1\" class=\"dataframe\">\n",
       "  <thead>\n",
       "    <tr style=\"text-align: right;\">\n",
       "      <th></th>\n",
       "      <th>TotalConfirmedCases</th>\n",
       "      <th>TotalDeaths</th>\n",
       "      <th>TotalRecovered</th>\n",
       "    </tr>\n",
       "    <tr>\n",
       "      <th>Date</th>\n",
       "      <th></th>\n",
       "      <th></th>\n",
       "      <th></th>\n",
       "    </tr>\n",
       "  </thead>\n",
       "  <tbody>\n",
       "    <tr>\n",
       "      <th>Jan 23</th>\n",
       "      <td>555</td>\n",
       "      <td>0</td>\n",
       "      <td>0</td>\n",
       "    </tr>\n",
       "    <tr>\n",
       "      <th>Jan 24</th>\n",
       "      <td>653</td>\n",
       "      <td>18</td>\n",
       "      <td>30</td>\n",
       "    </tr>\n",
       "    <tr>\n",
       "      <th>Jan 25</th>\n",
       "      <td>941</td>\n",
       "      <td>26</td>\n",
       "      <td>36</td>\n",
       "    </tr>\n",
       "    <tr>\n",
       "      <th>Jan 26</th>\n",
       "      <td>2019</td>\n",
       "      <td>56</td>\n",
       "      <td>49</td>\n",
       "    </tr>\n",
       "    <tr>\n",
       "      <th>Jan 27</th>\n",
       "      <td>2794</td>\n",
       "      <td>80</td>\n",
       "      <td>54</td>\n",
       "    </tr>\n",
       "  </tbody>\n",
       "</table>\n",
       "</div>"
      ],
      "text/plain": [
       "        TotalConfirmedCases  TotalDeaths  TotalRecovered\n",
       "Date                                                    \n",
       "Jan 23                  555            0               0\n",
       "Jan 24                  653           18              30\n",
       "Jan 25                  941           26              36\n",
       "Jan 26                 2019           56              49\n",
       "Jan 27                 2794           80              54"
      ]
     },
     "execution_count": 5,
     "metadata": {},
     "output_type": "execute_result"
    }
   ],
   "source": [
    "df.head()"
   ]
  },
  {
   "cell_type": "code",
   "execution_count": 6,
   "metadata": {},
   "outputs": [
    {
     "data": {
      "text/html": [
       "<div>\n",
       "<style scoped>\n",
       "    .dataframe tbody tr th:only-of-type {\n",
       "        vertical-align: middle;\n",
       "    }\n",
       "\n",
       "    .dataframe tbody tr th {\n",
       "        vertical-align: top;\n",
       "    }\n",
       "\n",
       "    .dataframe thead th {\n",
       "        text-align: right;\n",
       "    }\n",
       "</style>\n",
       "<table border=\"1\" class=\"dataframe\">\n",
       "  <thead>\n",
       "    <tr style=\"text-align: right;\">\n",
       "      <th></th>\n",
       "      <th>TotalConfirmedCases</th>\n",
       "      <th>TotalDeaths</th>\n",
       "      <th>TotalRecovered</th>\n",
       "    </tr>\n",
       "    <tr>\n",
       "      <th>Date</th>\n",
       "      <th></th>\n",
       "      <th></th>\n",
       "      <th></th>\n",
       "    </tr>\n",
       "  </thead>\n",
       "  <tbody>\n",
       "    <tr>\n",
       "      <th>Apr 2</th>\n",
       "      <td>941202</td>\n",
       "      <td>47631</td>\n",
       "      <td>198075</td>\n",
       "    </tr>\n",
       "    <tr>\n",
       "      <th>Apr 3</th>\n",
       "      <td>1029516</td>\n",
       "      <td>54153</td>\n",
       "      <td>219868</td>\n",
       "    </tr>\n",
       "    <tr>\n",
       "      <th>Apr 4</th>\n",
       "      <td>1139112</td>\n",
       "      <td>61144</td>\n",
       "      <td>236203</td>\n",
       "    </tr>\n",
       "    <tr>\n",
       "      <th>Apr 5</th>\n",
       "      <td>1214487</td>\n",
       "      <td>65605</td>\n",
       "      <td>253626</td>\n",
       "    </tr>\n",
       "    <tr>\n",
       "      <th>Apr 6</th>\n",
       "      <td>1279336</td>\n",
       "      <td>69844</td>\n",
       "      <td>272671</td>\n",
       "    </tr>\n",
       "  </tbody>\n",
       "</table>\n",
       "</div>"
      ],
      "text/plain": [
       "       TotalConfirmedCases  TotalDeaths  TotalRecovered\n",
       "Date                                                   \n",
       "Apr 2               941202        47631          198075\n",
       "Apr 3              1029516        54153          219868\n",
       "Apr 4              1139112        61144          236203\n",
       "Apr 5              1214487        65605          253626\n",
       "Apr 6              1279336        69844          272671"
      ]
     },
     "execution_count": 6,
     "metadata": {},
     "output_type": "execute_result"
    }
   ],
   "source": [
    "df.tail()"
   ]
  },
  {
   "cell_type": "code",
   "execution_count": 7,
   "metadata": {},
   "outputs": [
    {
     "data": {
      "text/plain": [
       "<matplotlib.axes._subplots.AxesSubplot at 0x7fa433484e48>"
      ]
     },
     "execution_count": 7,
     "metadata": {},
     "output_type": "execute_result"
    },
    {
     "data": {
      "image/png": "[encoded data removed]",
      "text/plain": [
       "<Figure size 1224x576 with 1 Axes>"
      ]
     },
     "metadata": {
      "needs_background": "light"
     },
     "output_type": "display_data"
    }
   ],
   "source": [
    "df.TotalConfirmedCases.plot(title=\"Total Cases\", figsize=(17, 8), legend=True)\n",
    "df.TotalDeaths.plot(figsize=(17, 8), legend=True)\n",
    "df.TotalRecovered.plot(figsize=(17, 8), legend=True)"
   ]
  },
  {
   "cell_type": "code",
   "execution_count": 8,
   "metadata": {},
   "outputs": [
    {
     "data": {
      "text/plain": [
       "<matplotlib.axes._subplots.AxesSubplot at 0x7fa4313f5f98>"
      ]
     },
     "execution_count": 8,
     "metadata": {},
     "output_type": "execute_result"
    },
    {
     "data": {
      "image/png": "[encoded data removed]",
      "text/plain": [
       "<Figure size 1224x576 with 1 Axes>"
      ]
     },
     "metadata": {
      "needs_background": "light"
     },
     "output_type": "display_data"
    }
   ],
   "source": [
    "(df.TotalConfirmedCases - df.TotalConfirmedCases.shift(1)).plot(title=\"Daily Difference\", figsize=(17, 8), legend=True)\n",
    "(df.TotalDeaths - df.TotalDeaths.shift(1)).plot(figsize=(17, 8), legend=True)\n",
    "(df.TotalRecovered - df.TotalRecovered.shift(1)).plot(figsize=(17, 8), legend=True)"
   ]
  },
  {
   "cell_type": "markdown",
   "metadata": {},
   "source": [
    "### Constants for predictions"
   ]
  },
  {
   "cell_type": "code",
   "execution_count": 9,
   "metadata": {},
   "outputs": [],
   "source": [
    "predicted_days = 5\n",
    "firstPredictionDay = datetime.datetime.strptime(df.index[-1] + ' 2020','%b %d %Y') + datetime.timedelta(days = 1)"
   ]
  },
  {
   "cell_type": "markdown",
   "metadata": {},
   "source": [
    "### Arima for confirmed cases"
   ]
  },
  {
   "cell_type": "code",
   "execution_count": 10,
   "metadata": {},
   "outputs": [
    {
     "name": "stdout",
     "output_type": "stream",
     "text": [
      "Fit ARIMA: order=(2, 2, 2); AIC=1597.185, BIC=1610.927, Fit time=3.995 seconds\n",
      "Fit ARIMA: order=(0, 2, 0); AIC=1626.439, BIC=1631.020, Fit time=0.052 seconds\n",
      "Fit ARIMA: order=(1, 2, 0); AIC=1611.782, BIC=1618.653, Fit time=1.158 seconds\n",
      "Fit ARIMA: order=(0, 2, 1); AIC=1596.204, BIC=1603.076, Fit time=0.892 seconds\n",
      "Fit ARIMA: order=(1, 2, 1); AIC=1597.527, BIC=1606.689, Fit time=0.787 seconds\n",
      "Fit ARIMA: order=(0, 2, 2); AIC=1596.675, BIC=1605.837, Fit time=0.964 seconds\n",
      "Fit ARIMA: order=(1, 2, 2); AIC=nan, BIC=nan, Fit time=nan seconds\n",
      "Total fit time: 8.107 seconds\n"
     ]
    }
   ],
   "source": [
    "confirmed_model = auto_arima(df.TotalConfirmedCases,\n",
    "                            seasonal=False,\n",
    "                            trace=True,\n",
    "                            error_action='ignore',  \n",
    "                            suppress_warnings=True, \n",
    "                            stepwise=True)"
   ]
  },
  {
   "cell_type": "code",
   "execution_count": 11,
   "metadata": {},
   "outputs": [
    {
     "data": {
      "text/plain": [
       "1596.2042194861701"
      ]
     },
     "execution_count": 11,
     "metadata": {},
     "output_type": "execute_result"
    }
   ],
   "source": [
    "confirmed_model.aic()"
   ]
  },
  {
   "cell_type": "code",
   "execution_count": 12,
   "metadata": {},
   "outputs": [
    {
     "data": {
      "text/plain": [
       "ARIMA(callback=None, disp=0, maxiter=50, method=None, order=(0, 2, 1),\n",
       "      out_of_sample_size=0, scoring='mse', scoring_args={}, seasonal_order=None,\n",
       "      solver='lbfgs', start_params=None, suppress_warnings=True,\n",
       "      transparams=True, trend='c')"
      ]
     },
     "execution_count": 12,
     "metadata": {},
     "output_type": "execute_result"
    }
   ],
   "source": [
    "confirmed_model.fit(df.TotalConfirmedCases)"
   ]
  },
  {
   "cell_type": "code",
   "execution_count": 13,
   "metadata": {},
   "outputs": [],
   "source": [
    "new_cases_forecast = confirmed_model.predict(n_periods=predicted_days)"
   ]
  },
  {
   "cell_type": "code",
   "execution_count": 14,
   "metadata": {},
   "outputs": [
    {
     "name": "stdout",
     "output_type": "stream",
     "text": [
      "2020-04-07 - 1358652\n",
      "2020-04-08 - 1439062\n",
      "2020-04-09 - 1520565\n",
      "2020-04-10 - 1603162\n",
      "2020-04-11 - 1686851\n"
     ]
    }
   ],
   "source": [
    "for x in range (0, predicted_days):\n",
    "    print(str(firstPredictionDay + datetime.timedelta(days = x))[0:10] + \" - \" +str(int(new_cases_forecast[x])))"
   ]
  },
  {
   "cell_type": "markdown",
   "metadata": {},
   "source": [
    "### Arima for death cases"
   ]
  },
  {
   "cell_type": "code",
   "execution_count": 15,
   "metadata": {},
   "outputs": [
    {
     "name": "stdout",
     "output_type": "stream",
     "text": [
      "Fit ARIMA: order=(2, 2, 2); AIC=1183.334, BIC=1197.077, Fit time=2.356 seconds\n",
      "Fit ARIMA: order=(0, 2, 0); AIC=1207.553, BIC=1212.133, Fit time=0.030 seconds\n",
      "Fit ARIMA: order=(1, 2, 0); AIC=1196.156, BIC=1203.027, Fit time=0.679 seconds\n",
      "Fit ARIMA: order=(0, 2, 1); AIC=1183.126, BIC=1189.998, Fit time=0.439 seconds\n",
      "Fit ARIMA: order=(1, 2, 1); AIC=1184.991, BIC=1194.153, Fit time=1.033 seconds\n",
      "Fit ARIMA: order=(0, 2, 2); AIC=1184.801, BIC=1193.963, Fit time=1.200 seconds\n",
      "Fit ARIMA: order=(1, 2, 2); AIC=nan, BIC=nan, Fit time=nan seconds\n",
      "Total fit time: 6.010 seconds\n"
     ]
    }
   ],
   "source": [
    "deaths_model = auto_arima(df.TotalDeaths,\n",
    "                            seasonal=False,\n",
    "                            trace=True,\n",
    "                            error_action='ignore',  \n",
    "                            suppress_warnings=True, \n",
    "                            stepwise=True)"
   ]
  },
  {
   "cell_type": "code",
   "execution_count": 16,
   "metadata": {},
   "outputs": [
    {
     "data": {
      "text/plain": [
       "1183.1262300676503"
      ]
     },
     "execution_count": 16,
     "metadata": {},
     "output_type": "execute_result"
    }
   ],
   "source": [
    "deaths_model.aic()"
   ]
  },
  {
   "cell_type": "code",
   "execution_count": 17,
   "metadata": {},
   "outputs": [
    {
     "data": {
      "text/plain": [
       "ARIMA(callback=None, disp=0, maxiter=50, method=None, order=(0, 2, 1),\n",
       "      out_of_sample_size=0, scoring='mse', scoring_args={}, seasonal_order=None,\n",
       "      solver='lbfgs', start_params=None, suppress_warnings=True,\n",
       "      transparams=True, trend='c')"
      ]
     },
     "execution_count": 17,
     "metadata": {},
     "output_type": "execute_result"
    }
   ],
   "source": [
    "deaths_model.fit(df.TotalDeaths)"
   ]
  },
  {
   "cell_type": "code",
   "execution_count": 18,
   "metadata": {},
   "outputs": [],
   "source": [
    "death_forecast = deaths_model.predict(n_periods=predicted_days)"
   ]
  },
  {
   "cell_type": "code",
   "execution_count": 19,
   "metadata": {},
   "outputs": [
    {
     "name": "stdout",
     "output_type": "stream",
     "text": [
      "2020-04-07 - 74885\n",
      "2020-04-08 - 79996\n",
      "2020-04-09 - 85177\n",
      "2020-04-10 - 90427\n",
      "2020-04-11 - 95747\n"
     ]
    }
   ],
   "source": [
    "for x in range (0, predicted_days):\n",
    "    print(str(firstPredictionDay + datetime.timedelta(days = x))[0:10] + \" - \" +str(int(death_forecast[x])))"
   ]
  },
  {
   "cell_type": "markdown",
   "metadata": {},
   "source": [
    "### Arima for recovered cases"
   ]
  },
  {
   "cell_type": "code",
   "execution_count": 20,
   "metadata": {},
   "outputs": [
    {
     "name": "stdout",
     "output_type": "stream",
     "text": [
      "Fit ARIMA: order=(2, 2, 2); AIC=1338.392, BIC=1352.135, Fit time=2.355 seconds\n",
      "Fit ARIMA: order=(0, 2, 0); AIC=1389.361, BIC=1393.942, Fit time=0.025 seconds\n",
      "Fit ARIMA: order=(1, 2, 0); AIC=1357.382, BIC=1364.253, Fit time=0.834 seconds\n",
      "Fit ARIMA: order=(0, 2, 1); AIC=1351.907, BIC=1358.779, Fit time=0.826 seconds\n",
      "Fit ARIMA: order=(1, 2, 2); AIC=nan, BIC=nan, Fit time=nan seconds\n",
      "Fit ARIMA: order=(3, 2, 2); AIC=1331.949, BIC=1347.982, Fit time=4.294 seconds\n",
      "Fit ARIMA: order=(3, 2, 1); AIC=1465.906, BIC=1479.649, Fit time=4.866 seconds\n",
      "Fit ARIMA: order=(3, 2, 3); AIC=1332.538, BIC=1350.862, Fit time=6.410 seconds\n",
      "Fit ARIMA: order=(2, 2, 1); AIC=1336.709, BIC=1348.162, Fit time=2.122 seconds\n",
      "Fit ARIMA: order=(4, 2, 3); AIC=nan, BIC=nan, Fit time=nan seconds\n",
      "Fit ARIMA: order=(4, 2, 2); AIC=1437.527, BIC=1455.851, Fit time=12.830 seconds\n",
      "Total fit time: 37.431 seconds\n"
     ]
    }
   ],
   "source": [
    "recovered_model = auto_arima(df.TotalRecovered,\n",
    "                            seasonal=False,\n",
    "                            trace=True,\n",
    "                            error_action='ignore',  \n",
    "                            suppress_warnings=True, \n",
    "                            stepwise=True)"
   ]
  },
  {
   "cell_type": "code",
   "execution_count": 21,
   "metadata": {},
   "outputs": [
    {
     "data": {
      "text/plain": [
       "1331.9487226901902"
      ]
     },
     "execution_count": 21,
     "metadata": {},
     "output_type": "execute_result"
    }
   ],
   "source": [
    "recovered_model.aic()"
   ]
  },
  {
   "cell_type": "code",
   "execution_count": 22,
   "metadata": {},
   "outputs": [
    {
     "data": {
      "text/plain": [
       "ARIMA(callback=None, disp=0, maxiter=50, method=None, order=(3, 2, 2),\n",
       "      out_of_sample_size=0, scoring='mse', scoring_args={}, seasonal_order=None,\n",
       "      solver='lbfgs', start_params=None, suppress_warnings=True,\n",
       "      transparams=True, trend='c')"
      ]
     },
     "execution_count": 22,
     "metadata": {},
     "output_type": "execute_result"
    }
   ],
   "source": [
    "recovered_model.fit(df.TotalRecovered)"
   ]
  },
  {
   "cell_type": "code",
   "execution_count": 23,
   "metadata": {},
   "outputs": [],
   "source": [
    "recovered_forecast = recovered_model.predict(n_periods=predicted_days)"
   ]
  },
  {
   "cell_type": "code",
   "execution_count": 24,
   "metadata": {},
   "outputs": [
    {
     "name": "stdout",
     "output_type": "stream",
     "text": [
      "2020-04-07 - 292638\n",
      "2020-04-08 - 313120\n",
      "2020-04-09 - 334476\n",
      "2020-04-10 - 356568\n",
      "2020-04-11 - 379314\n"
     ]
    }
   ],
   "source": [
    "for x in range (0, predicted_days):\n",
    "    print(str(firstPredictionDay + datetime.timedelta(days = x))[0:10] + \" - \" +str(int(recovered_forecast[x])))"
   ]
  }
 ],
 "metadata": {
  "kernelspec": {
   "display_name": "Python 3",
   "language": "python",
   "name": "python3"
  },
  "language_info": {
   "codemirror_mode": {
    "name": "ipython",
    "version": 3
   },
   "file_extension": ".py",
   "mimetype": "text/x-python",
   "name": "python",
   "nbconvert_exporter": "python",
   "pygments_lexer": "ipython3",
   "version": "3.6.9"
  }
 },
 "nbformat": 4,
 "nbformat_minor": 2
}
